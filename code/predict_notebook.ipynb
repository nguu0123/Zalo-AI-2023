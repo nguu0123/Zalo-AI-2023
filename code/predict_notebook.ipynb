{
 "cells": [
  {
   "cell_type": "code",
   "execution_count": null,
   "metadata": {},
   "outputs": [],
   "source": [
    "# FOR SUBMISSION 1\n",
    "import time \n",
    "all_predicted_time = []\n",
    "for filename, prompt in zip(filenames, prompts):\n",
    "    t1 = time.time()\n",
    "    input_ = preprocess(prompt)\n",
    "    forward = model.generate(input_)\n",
    "    result = postprocess(filename, forward)\n",
    "t2 = time.time()\n",
    "predicted_time = t2 - t1\n",
    "all_predicted_time.append((filename, predicted_time))"
   ]
  },
  {
   "cell_type": "code",
   "execution_count": null,
   "metadata": {},
   "outputs": [],
   "source": [
    "# FOR SUBMISSION 2\n",
    "import time \n",
    "all_predicted_time = []\n",
    "for filename, prompt in zip(filenames, prompts):\n",
    "    t1 = time.time()\n",
    "    # ***************Start model prediction******************\n",
    "    input_ = preprocess(prompt) # convert prompt into expected input\n",
    "    forward = model.generate(input_) # model generate\n",
    "    result = postprocess(filename, forward) # postprocess to expected format result\n",
    "    # ***************End model prediction******************\n",
    "    t2 = time.time()\n",
    "    predicted_time = t2 - t1\n",
    "    all_predicted_time.append((filename, predicted_time))\n",
    "write_time_file(\"results/time_submission2.csv\", all_predicted_time) # write"
   ]
  }
 ],
 "metadata": {
  "language_info": {
   "name": "python"
  }
 },
 "nbformat": 4,
 "nbformat_minor": 2
}
